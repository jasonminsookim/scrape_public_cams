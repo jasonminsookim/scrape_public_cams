{
 "cells": [
  {
   "cell_type": "code",
   "execution_count": 43,
   "outputs": [],
   "source": [
    "# Import libraries\n",
    "from selenium import webdriver\n",
    "from selenium.webdriver.chrome.options import Options\n",
    "from apscheduler.schedulers.blocking import BlockingScheduler\n",
    "import pandas as pd\n",
    "from PIL import Image\n",
    "import io\n",
    "import time\n",
    "import datetime\n",
    "import os\n"
   ],
   "metadata": {
    "collapsed": false,
    "pycharm": {
     "name": "#%%\n"
    }
   }
  },
  {
   "cell_type": "code",
   "execution_count": 61,
   "outputs": [],
   "source": [
    "def initialize_browser():\n",
    "    options = webdriver.ChromeOptions()\n",
    "    options.add_extension('../extension_3_4_19_0.crx')\n",
    "    chrome_driver = webdriver.Chrome(options=options)\n",
    "    return chrome_driver\n",
    "\n",
    "def save_webcam_screenshot(driver, url_to_scrape):\n",
    "    driver.get(url_to_scrape)\n",
    "    time.sleep(10)\n",
    "    image = driver.find_element_by_xpath(\"//div[@class='mapContainer']\").screenshot_as_png\n",
    "    shot_time = datetime.datetime.now().replace(microsecond=0).isoformat()\n",
    "    image_stream = io.BytesIO(image)\n",
    "    im = Image.open(image_stream)\n",
    "\n",
    "    save_path = \"../data/\" + url_to_scrape.split('.com/')[1].split('?')[0][:-1] \\\n",
    "                +\"_\" + shot_time + \".png\"\n",
    "    save_directory = '/'.join(save_path.split(\"/\")[:-1])\n",
    "    print(save_directory)\n",
    "\n",
    "    print(save_path)\n",
    "    if not os.path.exists(save_directory):\n",
    "       os.makedirs(save_directory)\n",
    "\n",
    "    #print(save_path)\n",
    "    im.save(save_path)"
   ],
   "metadata": {
    "collapsed": false,
    "pycharm": {
     "name": "#%%\n"
    }
   }
  },
  {
   "cell_type": "code",
   "execution_count": 62,
   "outputs": [
    {
     "name": "stdout",
     "output_type": "stream",
     "text": [
      "../data/usa/georgia\n",
      "../data/usa/georgia/athens_2020-05-08T23:32:25.png\n"
     ]
    }
   ],
   "source": [
    "driver = initialize_browser()\n",
    "save_webcam_screenshot(driver, \"https://www.earthcam.com/usa/georgia/athens/?cam=athensga\")\n"
   ],
   "metadata": {
    "collapsed": false,
    "pycharm": {
     "name": "#%%\n"
    }
   }
  },
  {
   "cell_type": "code",
   "execution_count": 58,
   "outputs": [
    {
     "name": "stdout",
     "output_type": "stream",
     "text": [
      "hi__\n"
     ]
    }
   ],
   "source": [],
   "metadata": {
    "collapsed": false,
    "pycharm": {
     "name": "#%%\n"
    }
   }
  },
  {
   "cell_type": "code",
   "execution_count": null,
   "outputs": [],
   "source": [
    "\n"
   ],
   "metadata": {
    "collapsed": false,
    "pycharm": {
     "name": "#%%\n"
    }
   }
  }
 ],
 "metadata": {
  "kernelspec": {
   "display_name": "Python 3",
   "language": "python",
   "name": "python3"
  },
  "language_info": {
   "codemirror_mode": {
    "name": "ipython",
    "version": 3
   },
   "file_extension": ".py",
   "mimetype": "text/x-python",
   "name": "python",
   "nbconvert_exporter": "python",
   "pygments_lexer": "ipython3",
   "version": "3.8.2"
  }
 },
 "nbformat": 4,
 "nbformat_minor": 1
}